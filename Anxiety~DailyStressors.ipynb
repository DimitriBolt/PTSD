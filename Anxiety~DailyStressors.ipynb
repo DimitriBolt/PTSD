{
 "cells": [
  {
   "cell_type": "code",
   "execution_count": 1,
   "metadata": {
    "collapsed": true,
    "ExecuteTime": {
     "end_time": "2024-01-07T22:48:06.284875127Z",
     "start_time": "2024-01-07T22:48:03.955435253Z"
    }
   },
   "outputs": [],
   "source": [
    "# Imports\n",
    "from os.path import join, expanduser\n",
    "\n",
    "from numpy import identity\n",
    "from pandas import DataFrame, read_excel, options\n",
    "import numpy as np\n",
    "import pandas as pd\n",
    "import statsmodels.api as sm\n",
    "import patsy as pt\n",
    "import sklearn.linear_model as lm\n",
    "from scipy.stats import f\n",
    "from statsmodels.regression.linear_model import OLS\n",
    "from statsmodels.tools import add_constant\n",
    "# https://habr.com/ru/articles/279117/#_=_"
   ]
  },
  {
   "cell_type": "code",
   "execution_count": 2,
   "outputs": [
    {
     "name": "stdout",
     "output_type": "stream",
     "text": [
      "Empty DataFrame\n",
      "Columns: [( I do not trust the people of this country.,), ( I miss the atmosphere of my hometown.,), ( Society constantly reminds you that you are an immigrant.,), (  I feel alone.,), ( I have too many responsibilities.,), ( It worries me that I cannot educate my children according to my culture.,), ( I feel that I have failed.,), ( I feel that I do not belong to this society.,), (  I fear that I will fail in this country.,), ( I do not feel accepted here.,), ( I feel very bad when I think about everything I left behind in my country.,), ( I am worried about my health.,), ( I do not have adequate housing.,), ( I feel guilty for having left my family.,), ( I feel like I have abandoned my family.,), ( I miss my family.,), ( I frequently feel tense.,), ( I am not sure if I want to stay here.,), ( I have financial problems.,), ( It is very difficult for me to solve my problems.,), ( I regret having left my country.,), ( Since I moved here my life has gotten worse.,), ( It worries me that I have involved other people in my decision to immigrate.,), ( I have felt that my culture is undervalued.,), ( I feel pressured by the people of this country to adopt their lifestyle.,), ( In this country, immigrants do not have the opportunity to obtain higher ranking jobs.,), ( I am worried that I cannot support my family.,), ( I don't feel good in this country.,), ( I feel discriminated against when it comes to finding housing.,), ( I worry a lot about my country of origin.,), ( I feel like I will never be able to come back to my homeland.,)]\n",
      "Index: []\n",
      "\n",
      "[0 rows x 31 columns]\n",
      "Empty DataFrame\n",
      "Columns: [Тревожность]\n",
      "Index: []\n"
     ]
    }
   ],
   "source": [
    "io: str = join(expanduser('~'), \"Documents\", \"Data_Emigrant Study and APA.xlsx\")\n",
    "\n",
    "outcome: DataFrame = read_excel(io=io, sheet_name='HSCL-25', header=0, index_col=0, usecols=\"A,KR\", skiprows=[1])\n",
    "y: DataFrame = outcome\n",
    "\n",
    "predictors: DataFrame = read_excel(io=io,\n",
    "                                   sheet_name='daily stressors',\n",
    "                                   header=0,\n",
    "                                   index_col=0,\n",
    "                                   usecols=\"A, AV, AZ, BD, BH, BL, BP, BT, BX, CB, CF, CJ, CN, CR, CV, CZ, DD, DH, DL, DP, DT, DX, EB, EF, EJ, EN, ER, EV, EZ, FD, FH, FL\",\n",
    "                                   skiprows=[1])\n",
    "X: DataFrame = predictors\n",
    "X.columns = X.columns.str.extract('/(.*)')\n",
    "X = X.dropna(axis=\"rows\", how=\"any\")\n",
    "y: DataFrame = y.dropna(axis=\"rows\", how=\"any\")\n",
    "\n",
    "# Проверка на gooдубликаты, важно!\n",
    "print(X[X.index.duplicated(keep=False)])\n",
    "print(y[y.index.duplicated(keep=False)])\n",
    "\n",
    "y: DataFrame = y[y.index.isin(X.index)]\n",
    "X: DataFrame = X[X.index.isin(y.index)]\n"
   ],
   "metadata": {
    "collapsed": false,
    "ExecuteTime": {
     "end_time": "2024-01-07T22:48:06.678965240Z",
     "start_time": "2024-01-07T22:48:06.288854735Z"
    }
   }
  },
  {
   "cell_type": "code",
   "execution_count": 3,
   "outputs": [
    {
     "data": {
      "text/plain": "[(' I do not trust the people of this country.',),\n (' I miss the atmosphere of my hometown.',),\n (' Society constantly reminds you that you are an immigrant.',),\n ('  I feel alone.',),\n (' I have too many responsibilities.',),\n (' It worries me that I cannot educate my children according to my culture.',),\n (' I feel that I have failed.',),\n (' I feel that I do not belong to this society.',),\n ('  I fear that I will fail in this country.',),\n (' I do not feel accepted here.',),\n (' I feel very bad when I think about everything I left behind in my country.',),\n (' I am worried about my health.',),\n (' I do not have adequate housing.',),\n (' I feel guilty for having left my family.',),\n (' I feel like I have abandoned my family.',),\n (' I miss my family.',),\n (' I frequently feel tense.',),\n (' I am not sure if I want to stay here.',),\n (' I have financial problems.',),\n (' It is very difficult for me to solve my problems.',),\n (' I regret having left my country.',),\n (' Since I moved here my life has gotten worse.',),\n (' It worries me that I have involved other people in my decision to immigrate.',),\n (' I have felt that my culture is undervalued.',),\n (' I feel pressured by the people of this country to adopt their lifestyle.',),\n (' In this country, immigrants do not have the opportunity to obtain higher ranking jobs.',),\n (' I am worried that I cannot support my family.',),\n (\" I don't feel good in this country.\",),\n (' I feel discriminated against when it comes to finding housing.',),\n (' I worry a lot about my country of origin.',),\n (' I feel like I will never be able to come back to my homeland.',)]"
     },
     "execution_count": 3,
     "metadata": {},
     "output_type": "execute_result"
    }
   ],
   "source": [
    "a = X.columns.tolist()\n",
    "a"
   ],
   "metadata": {
    "collapsed": false,
    "ExecuteTime": {
     "end_time": "2024-01-07T22:48:06.687419939Z",
     "start_time": "2024-01-07T22:48:06.683224881Z"
    }
   }
  },
  {
   "cell_type": "code",
   "execution_count": 4,
   "outputs": [
    {
     "name": "stdout",
     "output_type": "stream",
     "text": [
      "[2.58283521] [[-0.02704252 -0.0595487   0.2613788  -0.0864064  -0.24123238 -0.06247704\n",
      "   0.19843329 -0.03867452 -0.14066497  0.07434444  0.11977993 -0.13076466\n",
      "   0.07488075  0.11206983 -0.2079348  -0.14360177  0.09582473 -0.06747185\n",
      "  -0.04424207  0.01071105  0.12663881  0.04106905 -0.13540296  0.02073711\n",
      "  -0.05781457  0.08512139 -0.02544301 -0.34141172 -0.04110011  0.11641746\n",
      "   0.01418469]]\n"
     ]
    }
   ],
   "source": [
    "# создаем пустую модель c помощью sklearn.linear_model\n",
    "skm = lm.LinearRegression()\n",
    "# запускаем расчет параметров для указанных данных\n",
    "skm.fit(X, y)\n",
    "# и выведем параметры рассчитанной модели\n",
    "print(skm.intercept_, skm.coef_)"
   ],
   "metadata": {
    "collapsed": false,
    "ExecuteTime": {
     "end_time": "2024-01-07T22:48:06.771164692Z",
     "start_time": "2024-01-07T22:48:06.688635243Z"
    }
   }
  },
  {
   "cell_type": "code",
   "execution_count": 5,
   "outputs": [
    {
     "data": {
      "text/plain": "0.5269768377141908"
     },
     "execution_count": 5,
     "metadata": {},
     "output_type": "execute_result"
    }
   ],
   "source": [
    "skm.score(X=X,y=y) # R^2"
   ],
   "metadata": {
    "collapsed": false,
    "ExecuteTime": {
     "end_time": "2024-01-07T22:48:06.782413082Z",
     "start_time": "2024-01-07T22:48:06.731591267Z"
    }
   }
  },
  {
   "cell_type": "code",
   "execution_count": 6,
   "outputs": [],
   "source": [
    "# создаем пустую модель c помощью statsmodels\n",
    "X_incl_const = add_constant(data=X)\n",
    "model = OLS(endog=y, exog=X_incl_const)\n",
    "results = model.fit()\n"
   ],
   "metadata": {
    "collapsed": false,
    "ExecuteTime": {
     "end_time": "2024-01-07T22:48:06.830808368Z",
     "start_time": "2024-01-07T22:48:06.774343953Z"
    }
   }
  },
  {
   "cell_type": "code",
   "execution_count": 7,
   "outputs": [
    {
     "data": {
      "text/plain": "0.5269768377141908"
     },
     "execution_count": 7,
     "metadata": {},
     "output_type": "execute_result"
    }
   ],
   "source": [
    "results.rsquared"
   ],
   "metadata": {
    "collapsed": false,
    "ExecuteTime": {
     "end_time": "2024-01-07T22:48:06.842922490Z",
     "start_time": "2024-01-07T22:48:06.819286243Z"
    }
   }
  },
  {
   "cell_type": "code",
   "execution_count": 8,
   "outputs": [
    {
     "name": "stdout",
     "output_type": "stream",
     "text": [
      "                            OLS Regression Results                            \n",
      "==============================================================================\n",
      "Dep. Variable:            Тревожность   R-squared:                       0.527\n",
      "Model:                            OLS   Adj. R-squared:                 -0.037\n",
      "Method:                 Least Squares   F-statistic:                    0.9344\n",
      "Date:                Sun, 07 Jan 2024   Prob (F-statistic):              0.575\n",
      "Time:                        15:48:06   Log-Likelihood:                -33.000\n",
      "No. Observations:                  58   AIC:                             130.0\n",
      "Df Residuals:                      26   BIC:                             195.9\n",
      "Df Model:                          31                                         \n",
      "Covariance Type:            nonrobust                                         \n",
      "================================================================================================================================================================\n",
      "                                                                                                   coef    std err          t      P>|t|      [0.025      0.975]\n",
      "----------------------------------------------------------------------------------------------------------------------------------------------------------------\n",
      "const                                                                                            2.5828      0.671      3.851      0.001       1.204       3.961\n",
      "(' I do not trust the people of this country.',)                                                -0.0270      0.127     -0.213      0.833      -0.287       0.233\n",
      "(' I miss the atmosphere of my hometown.',)                                                     -0.0595      0.168     -0.353      0.727      -0.406       0.287\n",
      "(' Society constantly reminds you that you are an immigrant.',)                                  0.2614      0.177      1.478      0.151      -0.102       0.625\n",
      "('  I feel alone.',)                                                                            -0.0864      0.151     -0.573      0.572      -0.396       0.224\n",
      "(' I have too many responsibilities.',)                                                         -0.2412      0.180     -1.337      0.193      -0.612       0.130\n",
      "(' It worries me that I cannot educate my children according to my culture.',)                  -0.0625      0.175     -0.357      0.724      -0.422       0.297\n",
      "(' I feel that I have failed.',)                                                                 0.1984      0.145      1.365      0.184      -0.100       0.497\n",
      "(' I feel that I do not belong to this society.',)                                              -0.0387      0.159     -0.243      0.810      -0.365       0.288\n",
      "('  I fear that I will fail in this country.',)                                                 -0.1407      0.163     -0.863      0.396      -0.476       0.194\n",
      "(' I do not feel accepted here.',)                                                               0.0743      0.232      0.320      0.751      -0.403       0.551\n",
      "(' I feel very bad when I think about everything I left behind in my country.',)                 0.1198      0.139      0.861      0.397      -0.166       0.406\n",
      "(' I am worried about my health.',)                                                             -0.1308      0.150     -0.874      0.390      -0.438       0.177\n",
      "(' I do not have adequate housing.',)                                                            0.0749      0.155      0.484      0.632      -0.243       0.393\n",
      "(' I feel guilty for having left my family.',)                                                   0.1121      0.267      0.419      0.679      -0.438       0.662\n",
      "(' I feel like I have abandoned my family.',)                                                   -0.2079      0.242     -0.858      0.399      -0.706       0.290\n",
      "(' I miss my family.',)                                                                         -0.1436      0.144     -0.995      0.329      -0.440       0.153\n",
      "(' I frequently feel tense.',)                                                                   0.0958      0.224      0.427      0.673      -0.365       0.557\n",
      "(' I am not sure if I want to stay here.',)                                                     -0.0675      0.244     -0.276      0.785      -0.570       0.435\n",
      "(' I have financial problems.',)                                                                -0.0442      0.184     -0.241      0.812      -0.422       0.333\n",
      "(' It is very difficult for me to solve my problems.',)                                          0.0107      0.205      0.052      0.959      -0.411       0.432\n",
      "(' I regret having left my country.',)                                                           0.1266      0.258      0.491      0.627      -0.403       0.656\n",
      "(' Since I moved here my life has gotten worse.',)                                               0.0411      0.152      0.269      0.790      -0.272       0.354\n",
      "(' It worries me that I have involved other people in my decision to immigrate.',)              -0.1354      0.126     -1.074      0.293      -0.395       0.124\n",
      "(' I have felt that my culture is undervalued.',)                                                0.0207      0.156      0.133      0.895      -0.299       0.340\n",
      "(' I feel pressured by the people of this country to adopt their lifestyle.',)                  -0.0578      0.227     -0.255      0.801      -0.524       0.408\n",
      "(' In this country, immigrants do not have the opportunity to obtain higher ranking jobs.',)     0.0851      0.134      0.636      0.530      -0.190       0.360\n",
      "(' I am worried that I cannot support my family.',)                                             -0.0254      0.201     -0.126      0.900      -0.440       0.389\n",
      "(\" I don't feel good in this country.\",)                                                        -0.3414      0.207     -1.653      0.110      -0.766       0.083\n",
      "(' I feel discriminated against when it comes to finding housing.',)                            -0.0411      0.157     -0.262      0.796      -0.364       0.282\n",
      "(' I worry a lot about my country of origin.',)                                                  0.1164      0.119      0.976      0.338      -0.129       0.362\n",
      "(' I feel like I will never be able to come back to my homeland.',)                              0.0142      0.230      0.062      0.951      -0.459       0.488\n",
      "==============================================================================\n",
      "Omnibus:                        4.087   Durbin-Watson:                   1.780\n",
      "Prob(Omnibus):                  0.130   Jarque-Bera (JB):                2.355\n",
      "Skew:                           0.259   Prob(JB):                        0.308\n",
      "Kurtosis:                       2.160   Cond. No.                         82.5\n",
      "==============================================================================\n",
      "\n",
      "Notes:\n",
      "[1] Standard Errors assume that the covariance matrix of the errors is correctly specified.\n"
     ]
    }
   ],
   "source": [
    "print(results.summary())"
   ],
   "metadata": {
    "collapsed": false,
    "ExecuteTime": {
     "end_time": "2024-01-07T22:48:06.844214414Z",
     "start_time": "2024-01-07T22:48:06.819721500Z"
    }
   }
  },
  {
   "cell_type": "code",
   "execution_count": 9,
   "outputs": [
    {
     "name": "stdout",
     "output_type": "stream",
     "text": [
      "R-squared: 0.53\n",
      "F-statistic: 0.93\n",
      "F-critical: 1.89\n",
      "p-value (F-statistic): 0.58\n"
     ]
    }
   ],
   "source": [
    "print(f\"R-squared: {round(results.rsquared, 2)}\") # R^2\n",
    "print(f\"F-statistic: {round(results.fvalue, 2)}\") # F-статистика\n",
    "print(f\"F-critical: {round(f.ppf(q=1-0.05, dfn=results.df_model, dfd=results.df_resid), 2)}\") # F-критическое\n",
    "print(f\"p-value (F-statistic): {round(results.f_pvalue, 2)}\") # p-value (F-статистика)"
   ],
   "metadata": {
    "collapsed": false,
    "ExecuteTime": {
     "end_time": "2024-01-07T22:48:06.844754120Z",
     "start_time": "2024-01-07T22:48:06.820101890Z"
    }
   }
  },
  {
   "cell_type": "code",
   "execution_count": 10,
   "outputs": [
    {
     "data": {
      "text/plain": "                                                    Estimate   SE    LL   UL  \\\nconst                                                   2.58 0.67  1.20 3.96   \n( Society constantly reminds you that you are a...      0.26 0.18 -0.10 0.62   \n( I have too many responsibilities.,)                  -0.24 0.18 -0.61 0.13   \n( I feel that I have failed.,)                          0.20 0.15 -0.10 0.50   \n( I don't feel good in this country.,)                 -0.34 0.21 -0.77 0.08   \n\n                                                      p  \nconst                                              0.00  \n( Society constantly reminds you that you are a... 0.15  \n( I have too many responsibilities.,)              0.19  \n( I feel that I have failed.,)                     0.18  \n( I don't feel good in this country.,)             0.11  ",
      "text/html": "<div>\n<style scoped>\n    .dataframe tbody tr th:only-of-type {\n        vertical-align: middle;\n    }\n\n    .dataframe tbody tr th {\n        vertical-align: top;\n    }\n\n    .dataframe thead th {\n        text-align: right;\n    }\n</style>\n<table border=\"1\" class=\"dataframe\">\n  <thead>\n    <tr style=\"text-align: right;\">\n      <th></th>\n      <th>Estimate</th>\n      <th>SE</th>\n      <th>LL</th>\n      <th>UL</th>\n      <th>p</th>\n    </tr>\n  </thead>\n  <tbody>\n    <tr>\n      <th>const</th>\n      <td>2.58</td>\n      <td>0.67</td>\n      <td>1.20</td>\n      <td>3.96</td>\n      <td>0.00</td>\n    </tr>\n    <tr>\n      <th>( Society constantly reminds you that you are an immigrant.,)</th>\n      <td>0.26</td>\n      <td>0.18</td>\n      <td>-0.10</td>\n      <td>0.62</td>\n      <td>0.15</td>\n    </tr>\n    <tr>\n      <th>( I have too many responsibilities.,)</th>\n      <td>-0.24</td>\n      <td>0.18</td>\n      <td>-0.61</td>\n      <td>0.13</td>\n      <td>0.19</td>\n    </tr>\n    <tr>\n      <th>( I feel that I have failed.,)</th>\n      <td>0.20</td>\n      <td>0.15</td>\n      <td>-0.10</td>\n      <td>0.50</td>\n      <td>0.18</td>\n    </tr>\n    <tr>\n      <th>( I don't feel good in this country.,)</th>\n      <td>-0.34</td>\n      <td>0.21</td>\n      <td>-0.77</td>\n      <td>0.08</td>\n      <td>0.11</td>\n    </tr>\n  </tbody>\n</table>\n</div>"
     },
     "execution_count": 10,
     "metadata": {},
     "output_type": "execute_result"
    }
   ],
   "source": [
    "estimate = results.params.rename('Estimate').to_frame()\n",
    "ci = results.conf_int(alpha=0.05, cols=None).rename(columns={0: 'LL', 1: 'UL'})\n",
    "se = results.bse.rename('SE')\n",
    "p = results.pvalues.rename('p')\n",
    "p = p[p < 0.25]\n",
    "options.display.float_format = '{:,.2f}'.format\n",
    "estimate.join(other=[se, ci, p], on=None, how='inner')"
   ],
   "metadata": {
    "collapsed": false,
    "ExecuteTime": {
     "end_time": "2024-01-07T22:48:06.920298541Z",
     "start_time": "2024-01-07T22:48:06.820873734Z"
    }
   }
  }
 ],
 "metadata": {
  "kernelspec": {
   "display_name": "Python 3",
   "language": "python",
   "name": "python3"
  },
  "language_info": {
   "codemirror_mode": {
    "name": "ipython",
    "version": 2
   },
   "file_extension": ".py",
   "mimetype": "text/x-python",
   "name": "python",
   "nbconvert_exporter": "python",
   "pygments_lexer": "ipython2",
   "version": "2.7.6"
  }
 },
 "nbformat": 4,
 "nbformat_minor": 0
}
