{
 "cells": [
  {
   "cell_type": "code",
   "execution_count": 1,
   "id": "initial_id",
   "metadata": {
    "collapsed": true,
    "ExecuteTime": {
     "end_time": "2024-01-10T07:29:11.519480949Z",
     "start_time": "2024-01-10T07:29:11.417860748Z"
    }
   },
   "outputs": [],
   "source": [
    "import pandas as pd\n",
    "import numpy as np\n",
    "from sklearn import linear_model\n",
    "from sklearn.model_selection import train_test_split\n",
    "from sklearn.metrics import accuracy_score\n",
    "from mlxtend.feature_selection import SequentialFeatureSelector\n",
    "\n",
    "# Define the array of data\n",
    "data = np.array([[1, 2, 3, 4],\n",
    "\t\t\t\t[5, 6, 7, 8],\n",
    "\t\t\t\t[9, 10, 11, 12]])\n",
    "\n",
    "# Convert the array into a dataframe\n",
    "df = pd.DataFrame(data)\n",
    "\n",
    "# Select the features and target\n",
    "X = df.iloc[:, :-1]\n",
    "y = df.iloc[:, -1]\n"
   ]
  },
  {
   "cell_type": "code",
   "outputs": [],
   "source": [
    "# Perform stepwise regression\n",
    "sfs = SequentialFeatureSelector(linear_model.LogisticRegression(),\n",
    "\t\t\t\t\t\t\t\tk_features=3,\n",
    "\t\t\t\t\t\t\t\tforward=True,\n",
    "\t\t\t\t\t\t\t\tscoring='accuracy',\n",
    "\t\t\t\t\t\t\t\tcv=None)\n",
    "selected_features = sfs.fit(X, y)\n"
   ],
   "metadata": {
    "collapsed": false,
    "ExecuteTime": {
     "end_time": "2024-01-10T07:29:11.565470174Z",
     "start_time": "2024-01-10T07:29:11.525411409Z"
    }
   },
   "id": "1b60f096ae4d3320",
   "execution_count": 2
  },
  {
   "cell_type": "code",
   "outputs": [
    {
     "data": {
      "text/plain": "(0, 1, 2)"
     },
     "execution_count": 3,
     "metadata": {},
     "output_type": "execute_result"
    }
   ],
   "source": [
    "selected_features.k_feature_names_"
   ],
   "metadata": {
    "collapsed": false,
    "ExecuteTime": {
     "end_time": "2024-01-10T07:29:11.611104611Z",
     "start_time": "2024-01-10T07:29:11.570278942Z"
    }
   },
   "id": "da5db6b9f7617da",
   "execution_count": 3
  },
  {
   "cell_type": "code",
   "outputs": [
    {
     "name": "stdout",
     "output_type": "stream",
     "text": [
      "[8]\n"
     ]
    }
   ],
   "source": [
    "# Create a dataframe with only the selected features\n",
    "selected_columns = [0, 1, 2, 3]\n",
    "df_selected = df[selected_columns]\n",
    "\n",
    "# Split the data into train and test sets\n",
    "X_train,\\\n",
    "\tX_test,\\\n",
    "\ty_train,\\\n",
    "\ty_test = train_test_split(\n",
    "\t\tdf_selected, y,\n",
    "\t\ttest_size=0.3,\n",
    "\t\trandom_state=42)\n",
    "\n",
    "# Fit a logistic regression model using the selected features\n",
    "logreg = linear_model.LogisticRegression()\n",
    "logreg.fit(X_train, y_train)\n",
    "\n",
    "# Make predictions using the test set\n",
    "y_pred = logreg.predict(X_test)\n",
    "\n",
    "# Evaluate the model performance\n",
    "print(y_pred)\n"
   ],
   "metadata": {
    "collapsed": false,
    "ExecuteTime": {
     "end_time": "2024-01-10T07:29:11.611518571Z",
     "start_time": "2024-01-10T07:29:11.610791785Z"
    }
   },
   "id": "8b5d58f6cb15e53c",
   "execution_count": 4
  },
  {
   "cell_type": "code",
   "outputs": [
    {
     "data": {
      "text/plain": "0    4\nName: 3, dtype: int64"
     },
     "execution_count": 5,
     "metadata": {},
     "output_type": "execute_result"
    }
   ],
   "source": [
    "y_test"
   ],
   "metadata": {
    "collapsed": false,
    "ExecuteTime": {
     "end_time": "2024-01-10T07:29:11.611777364Z",
     "start_time": "2024-01-10T07:29:11.610954038Z"
    }
   },
   "id": "2240c84a6986ba10",
   "execution_count": 5
  },
  {
   "cell_type": "code",
   "outputs": [],
   "source": [],
   "metadata": {
    "collapsed": false,
    "ExecuteTime": {
     "end_time": "2024-01-10T07:29:11.611943477Z",
     "start_time": "2024-01-10T07:29:11.611012381Z"
    }
   },
   "id": "d0e0c2b98cb6213",
   "execution_count": 5
  }
 ],
 "metadata": {
  "kernelspec": {
   "display_name": "Python 3",
   "language": "python",
   "name": "python3"
  },
  "language_info": {
   "codemirror_mode": {
    "name": "ipython",
    "version": 2
   },
   "file_extension": ".py",
   "mimetype": "text/x-python",
   "name": "python",
   "nbconvert_exporter": "python",
   "pygments_lexer": "ipython2",
   "version": "2.7.6"
  }
 },
 "nbformat": 4,
 "nbformat_minor": 5
}
